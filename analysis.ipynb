{
 "cells": [
  {
   "cell_type": "code",
   "execution_count": 2,
   "id": "organic-dylan",
   "metadata": {},
   "outputs": [
    {
     "name": "stdout",
     "output_type": "stream",
     "text": [
      "Collecting pandas\n",
      "  Downloading pandas-1.2.3-cp39-cp39-macosx_10_9_x86_64.whl (10.7 MB)\n",
      "\u001b[K     |████████████████████████████████| 10.7 MB 1.4 MB/s eta 0:00:01\n",
      "\u001b[?25hRequirement already satisfied: numpy>=1.16.5 in /Users/michael/.pyenv/versions/3.9.1/envs/cs230/lib/python3.9/site-packages (from pandas) (1.19.5)\n",
      "Requirement already satisfied: python-dateutil>=2.7.3 in /Users/michael/.pyenv/versions/3.9.1/envs/cs230/lib/python3.9/site-packages (from pandas) (2.8.1)\n",
      "Requirement already satisfied: pytz>=2017.3 in /Users/michael/.pyenv/versions/3.9.1/envs/cs230/lib/python3.9/site-packages (from pandas) (2020.5)\n",
      "Requirement already satisfied: six>=1.5 in /Users/michael/.pyenv/versions/3.9.1/envs/cs230/lib/python3.9/site-packages (from python-dateutil>=2.7.3->pandas) (1.15.0)\n",
      "Installing collected packages: pandas\n",
      "Successfully installed pandas-1.2.3\n",
      "\u001b[33mWARNING: You are using pip version 20.2.3; however, version 21.0.1 is available.\n",
      "You should consider upgrading via the '/Users/michael/.pyenv/versions/3.9.1/envs/cs230/bin/python3.9 -m pip install --upgrade pip' command.\u001b[0m\n"
     ]
    }
   ],
   "source": [
    "!pip install pandas"
   ]
  },
  {
   "cell_type": "code",
   "execution_count": 73,
   "id": "eligible-destiny",
   "metadata": {},
   "outputs": [],
   "source": [
    "import pandas as pd\n",
    "from constants import STACKX_COLUMNS\n"
   ]
  },
  {
   "cell_type": "code",
   "execution_count": 169,
   "id": "creative-party",
   "metadata": {},
   "outputs": [],
   "source": [
    "def calculate_agreement(data: pd.DataFrame, col: str) -> dict:\n",
    "    # Calculate how many of the labels agree with the rest of the group\n",
    "    data = data[data['understandable'] == 1]\n",
    "    data = data[data.duplicated(subset=['passage', 'question'],keep=False)]\n",
    "    groups = data.groupby(by=['passage', 'question'])\n",
    "    ret = {'agree': 0, 'disagree': 0, 'accuracy': 0}\n",
    "    group_keys = list(groups.groups.keys())\n",
    "    for key in group_keys:\n",
    "        group = groups.get_group(key).reset_index(drop=True)\n",
    "        for i in range(len(group)):\n",
    "            subgroup = group.drop(index=i)\n",
    "            subgroup_mean = round(subgroup.mean(axis=0)[col])\n",
    "            holdout = group.iloc[i][col]\n",
    "            if subgroup_mean == holdout:\n",
    "                ret['agree'] += 1\n",
    "            else:\n",
    "                ret['disagree'] += 1\n",
    "    ret['accuracy'] = ret['agree'] / (ret['agree'] + ret['disagree'])\n",
    "    return ret\n",
    "\n",
    "def calculate_agreement_binary(data: pd.DataFrame, col: str) -> dict:\n",
    "    # Calculate how many of the binary labels agree with the rest of the group\n",
    "    data = data[data['understandable'] == 1]\n",
    "    data = data[data.duplicated(subset=['passage', 'question'],keep=False)]\n",
    "    groups = data.groupby(by=['passage', 'question'])\n",
    "    ret = {'agree': 0, 'disagree': 0, 'accuracy': 0}\n",
    "    group_keys = list(groups.groups.keys())\n",
    "    for key in group_keys:\n",
    "        group = groups.get_group(key).reset_index(drop=True)\n",
    "        for i in range(len(group)):\n",
    "            subgroup = group.drop(index=i)\n",
    "            subgroup_mean = round(subgroup.mean(axis=0)[col])\n",
    "            subgroup_binary = subgroup_mean > 3\n",
    "            holdout = group.iloc[i][col]\n",
    "            holdout_binary = holdout > 3\n",
    "            if subgroup_binary == holdout_binary:\n",
    "                ret['agree'] += 1\n",
    "            else:\n",
    "                ret['disagree'] += 1\n",
    "    ret['accuracy'] = ret['agree'] / (ret['agree'] + ret['disagree'])\n",
    "    return ret"
   ]
  },
  {
   "cell_type": "code",
   "execution_count": 170,
   "id": "narrative-council",
   "metadata": {},
   "outputs": [],
   "source": [
    "data = pd.read_csv('raw_datasets/labels_with_stackx.csv')\n",
    "data = data.drop(columns=STACKX_COLUMNS)\n",
    "data = data.drop(columns=['comprehension binary', 'interest binary'])\n"
   ]
  },
  {
   "cell_type": "code",
   "execution_count": 171,
   "id": "angry-intranet",
   "metadata": {},
   "outputs": [
    {
     "name": "stdout",
     "output_type": "stream",
     "text": [
      "Interest on 1-5 scale: {'agree': 491, 'disagree': 477, 'accuracy': 0.5072314049586777}\n",
      "Comprehension on 1-5 scale: {'agree': 258, 'disagree': 710, 'accuracy': 0.2665289256198347}\n",
      "Interest on binary scale: {'agree': 655, 'disagree': 105, 'accuracy': 0.8618421052631579}\n",
      "Comprehension on binary scale: {'agree': 289, 'disagree': 232, 'accuracy': 0.5547024952015355}\n"
     ]
    }
   ],
   "source": [
    "print(f\"Interest on 1-5 scale: {calculate_agreement(data, 'interest')}\")\n",
    "print(f\"Comprehension on 1-5 scale: {calculate_agreement(data, 'comprehension')}\")\n",
    "print(f\"Interest on binary scale: {calculate_agreement_binary(data, 'interest')}\")\n",
    "print(f\"Comprehension on binary scale: {calculate_agreement_binary(data, 'comprehension')}\")\n",
    "\n",
    "\n",
    "\n",
    "\n"
   ]
  },
  {
   "cell_type": "code",
   "execution_count": 158,
   "id": "formed-elizabeth",
   "metadata": {},
   "outputs": [
    {
     "name": "stdout",
     "output_type": "stream",
     "text": [
      "Agree Binary: 686 | Disagree Binary: 282\n",
      "Accuracy: 0.7086776859504132\n"
     ]
    }
   ],
   "source": []
  },
  {
   "cell_type": "code",
   "execution_count": null,
   "id": "canadian-macedonia",
   "metadata": {},
   "outputs": [],
   "source": []
  }
 ],
 "metadata": {
  "kernelspec": {
   "display_name": "Python 3",
   "language": "python",
   "name": "python3"
  },
  "language_info": {
   "codemirror_mode": {
    "name": "ipython",
    "version": 3
   },
   "file_extension": ".py",
   "mimetype": "text/x-python",
   "name": "python",
   "nbconvert_exporter": "python",
   "pygments_lexer": "ipython3",
   "version": "3.9.1"
  }
 },
 "nbformat": 4,
 "nbformat_minor": 5
}
