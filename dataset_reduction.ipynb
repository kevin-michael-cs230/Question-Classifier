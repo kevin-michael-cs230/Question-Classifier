{
 "cells": [
  {
   "cell_type": "code",
   "execution_count": 2,
   "id": "ahead-detective",
   "metadata": {},
   "outputs": [],
   "source": [
    "from constants import PROCESSED_DIR, RAW_DATASET_PATH, PROCESSED_DATASET\n",
    "import dataset_utils as du\n",
    "import pandas as pd\n",
    "import numpy as np\n",
    "from os import path"
   ]
  },
  {
   "cell_type": "code",
   "execution_count": 3,
   "id": "forced-charles",
   "metadata": {},
   "outputs": [],
   "source": [
    "# Uncomment the following line to rerun pre-processing and tokenization\n",
    "# du.prepare_and_save(RAW_DATASET_PATH, path.join(PROCESSED_DIR, PROCESSED_DATASET))"
   ]
  },
  {
   "cell_type": "code",
   "execution_count": 6,
   "id": "textile-experiment",
   "metadata": {},
   "outputs": [
    {
     "name": "stderr",
     "output_type": "stream",
     "text": [
      "/home/ubuntu/Question-Classifier/dataset_utils.py:143: SettingWithCopyWarning: \n",
      "A value is trying to be set on a copy of a slice from a DataFrame.\n",
      "Try using .loc[row_indexer,col_indexer] = value instead\n",
      "\n",
      "See the caveats in the documentation: https://pandas.pydata.org/pandas-docs/stable/user_guide/indexing.html#returning-a-view-versus-a-copy\n",
      "  interest['interest_binary'] = (interest['interest'] > 3).astype(int)\n",
      "/home/ubuntu/Question-Classifier/dataset_utils.py:162: SettingWithCopyWarning: \n",
      "A value is trying to be set on a copy of a slice from a DataFrame.\n",
      "Try using .loc[row_indexer,col_indexer] = value instead\n",
      "\n",
      "See the caveats in the documentation: https://pandas.pydata.org/pandas-docs/stable/user_guide/indexing.html#returning-a-view-versus-a-copy\n",
      "  comprehension['comprehension_binary'] = (comprehension['comprehension'] > 3).astype(int)\n"
     ]
    }
   ],
   "source": [
    "data = pd.read_pickle(path.join(PROCESSED_DIR, PROCESSED_DATASET))\n",
    "\n",
    "interest = du.get_interest_dataset(data)\n",
    "comprehension = du.get_comprehension_dataset(data)\n",
    "comprehension = du.get_balanced_dataset(comprehension, 'comprehension_binary', random_state=1)\n",
    "comprehension = comprehension.sample(frac=1, random_state=1).reset_index(drop=True) #Shuffle the dataset\n",
    "features = du.get_features(comprehension)\n",
    "labels = du.get_labels(comprehension, 'comprehension_binary')\n",
    "folds = du.kfold_split(features, labels, num_folds=8)"
   ]
  },
  {
   "cell_type": "code",
   "execution_count": 34,
   "id": "digital-protocol",
   "metadata": {},
   "outputs": [],
   "source": [
    "from transformers import AutoTokenizer\n",
    "tokenizer = AutoTokenizer.from_pretrained('xlnet-base-cased', model_max_length=1024)"
   ]
  },
  {
   "cell_type": "code",
   "execution_count": 91,
   "id": "surprised-confusion",
   "metadata": {},
   "outputs": [],
   "source": [
    "train_features = folds[0]['train_features']\n",
    "train_labels = folds[0]['train_labels']\n",
    "        "
   ]
  },
  {
   "cell_type": "code",
   "execution_count": 136,
   "id": "advised-broadway",
   "metadata": {},
   "outputs": [
    {
     "data": {
      "text/plain": [
       "{'matches': 2707, 'misses': 0}"
      ]
     },
     "execution_count": 136,
     "metadata": {},
     "output_type": "execute_result"
    }
   ],
   "source": [
    "\n",
    "validate_dataset(train_features, train_labels, comprehension)\n",
    "\n",
    "\n",
    "        \n",
    "        \n",
    "    \n",
    "\n",
    "    "
   ]
  },
  {
   "cell_type": "code",
   "execution_count": 135,
   "id": "alone-carolina",
   "metadata": {},
   "outputs": [],
   "source": []
  },
  {
   "cell_type": "code",
   "execution_count": 127,
   "id": "prostate-wells",
   "metadata": {},
   "outputs": [
    {
     "data": {
      "text/plain": [
       "0"
      ]
     },
     "execution_count": 127,
     "metadata": {},
     "output_type": "execute_result"
    }
   ],
   "source": [
    "neg"
   ]
  },
  {
   "cell_type": "code",
   "execution_count": null,
   "id": "simple-carrier",
   "metadata": {},
   "outputs": [],
   "source": []
  }
 ],
 "metadata": {
  "kernelspec": {
   "display_name": "Python [conda env:tensorflow_p37] *",
   "language": "python",
   "name": "conda-env-tensorflow_p37-py"
  },
  "language_info": {
   "codemirror_mode": {
    "name": "ipython",
    "version": 3
   },
   "file_extension": ".py",
   "mimetype": "text/x-python",
   "name": "python",
   "nbconvert_exporter": "python",
   "pygments_lexer": "ipython3",
   "version": "3.7.10"
  }
 },
 "nbformat": 4,
 "nbformat_minor": 5
}
