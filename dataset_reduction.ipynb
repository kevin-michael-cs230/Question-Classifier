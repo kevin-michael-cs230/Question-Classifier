{
 "cells": [
  {
   "cell_type": "code",
   "execution_count": 28,
   "id": "ahead-detective",
   "metadata": {},
   "outputs": [],
   "source": [
    "from constants import PROCESSED_DIR, RAW_DATASET_PATH, PROCESSED_DATASET\n",
    "import dataset_utils as du\n",
    "import pandas as pd\n",
    "import numpy as np\n",
    "from os import path"
   ]
  },
  {
   "cell_type": "code",
   "execution_count": 25,
   "id": "exotic-bearing",
   "metadata": {},
   "outputs": [],
   "source": [
    "# Uncomment the following line to rerun pre-processing and tokenization\n",
    "#prepare_and_save(RAW_DATASET_PATH, path.join(PROCESSED_DIR, PROCESSED_DATASET))"
   ]
  },
  {
   "cell_type": "code",
   "execution_count": 27,
   "id": "textile-experiment",
   "metadata": {},
   "outputs": [
    {
     "name": "stderr",
     "output_type": "stream",
     "text": [
      "/home/ubuntu/Question-Classifier/dataset_utils.py:80: SettingWithCopyWarning: \n",
      "A value is trying to be set on a copy of a slice from a DataFrame.\n",
      "Try using .loc[row_indexer,col_indexer] = value instead\n",
      "\n",
      "See the caveats in the documentation: https://pandas.pydata.org/pandas-docs/stable/user_guide/indexing.html#returning-a-view-versus-a-copy\n",
      "  interest['interest_binary'] = (interest['interest'] > 3).astype(int)\n",
      "/home/ubuntu/Question-Classifier/dataset_utils.py:90: SettingWithCopyWarning: \n",
      "A value is trying to be set on a copy of a slice from a DataFrame.\n",
      "Try using .loc[row_indexer,col_indexer] = value instead\n",
      "\n",
      "See the caveats in the documentation: https://pandas.pydata.org/pandas-docs/stable/user_guide/indexing.html#returning-a-view-versus-a-copy\n",
      "  comprehension['comprehension_binary'] = (comprehension['comprehension'] > 3).astype(int)\n"
     ]
    }
   ],
   "source": [
    "data = pd.read_pickle(path.join(PROCESSED_DIR, PROCESSED_DATASET))\n",
    "\n",
    "interest = du.get_interest_dataset(data)\n",
    "comprehension = du.get_comprehension_dataset(data)\n",
    "comprehension = du.get_balanced_dataset(comprehension, 'comprehension_binary', random_state=1)\n",
    "comprehension = comprehension.sample(frac=1, random_state=1) #Shuffle the dataset\n",
    "features = du.get_features(comprehension)\n",
    "labels = du.get_labels(comprehension, 'comprehension_binary')\n",
    "folds = du.kfold_split(features, labels, num_folds=8)"
   ]
  },
  {
   "cell_type": "code",
   "execution_count": 34,
   "id": "creative-cherry",
   "metadata": {},
   "outputs": [
    {
     "data": {
      "text/plain": [
       "[array([[    5,     5,     5, ...,    82,     4,     3],\n",
       "        [    5,     5,     5, ...,    82,     4,     3],\n",
       "        [ 3619, 21559,  6234, ...,    82,     4,     3],\n",
       "        ...,\n",
       "        [   32,  3872,  4306, ...,    82,     4,     3],\n",
       "        [    5,   247,   178, ...,    82,     4,     3],\n",
       "        [    5,     5,     5, ...,    82,     4,     3]]),\n",
       " array([[3, 3, 3, ..., 1, 1, 2],\n",
       "        [3, 3, 3, ..., 1, 1, 2],\n",
       "        [0, 0, 0, ..., 1, 1, 2],\n",
       "        ...,\n",
       "        [0, 0, 0, ..., 1, 1, 2],\n",
       "        [3, 0, 0, ..., 1, 1, 2],\n",
       "        [3, 3, 3, ..., 1, 1, 2]]),\n",
       " array([[0, 0, 0, ..., 1, 1, 1],\n",
       "        [0, 0, 0, ..., 1, 1, 1],\n",
       "        [1, 1, 1, ..., 1, 1, 1],\n",
       "        ...,\n",
       "        [1, 1, 1, ..., 1, 1, 1],\n",
       "        [0, 1, 1, ..., 1, 1, 1],\n",
       "        [0, 0, 0, ..., 1, 1, 1]]),\n",
       " array([[0.9491911 , 0.8865838 , 0.4116365 , ..., 0.93547505, 0.00432409,\n",
       "         0.9028465 ],\n",
       "        [0.93707097, 0.86747426, 0.169238  , ..., 0.9489544 , 0.00586284,\n",
       "         0.8904263 ],\n",
       "        [0.9366325 , 0.7711637 , 0.15736738, ..., 0.95282334, 0.00409238,\n",
       "         0.8438202 ],\n",
       "        ...,\n",
       "        [0.9340731 , 0.8644813 , 0.23823643, ..., 0.95317924, 0.0049275 ,\n",
       "         0.87900436],\n",
       "        [0.9461993 , 0.85691214, 0.1751936 , ..., 0.9564298 , 0.00534117,\n",
       "         0.88376105],\n",
       "        [0.9440651 , 0.87733257, 0.37059727, ..., 0.9573574 , 0.00474903,\n",
       "         0.89933014]])]"
      ]
     },
     "execution_count": 34,
     "metadata": {},
     "output_type": "execute_result"
    }
   ],
   "source": [
    "features = du.get_features(comprehension)\n",
    "features"
   ]
  },
  {
   "cell_type": "code",
   "execution_count": null,
   "id": "adequate-worse",
   "metadata": {},
   "outputs": [],
   "source": []
  }
 ],
 "metadata": {
  "kernelspec": {
   "display_name": "Python [conda env:tensorflow_p37] *",
   "language": "python",
   "name": "conda-env-tensorflow_p37-py"
  },
  "language_info": {
   "codemirror_mode": {
    "name": "ipython",
    "version": 3
   },
   "file_extension": ".py",
   "mimetype": "text/x-python",
   "name": "python",
   "nbconvert_exporter": "python",
   "pygments_lexer": "ipython3",
   "version": "3.7.10"
  }
 },
 "nbformat": 4,
 "nbformat_minor": 5
}
