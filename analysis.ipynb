{
 "cells": [
  {
   "cell_type": "code",
   "execution_count": 173,
   "id": "organic-dylan",
   "metadata": {},
   "outputs": [
    {
     "name": "stdout",
     "output_type": "stream",
     "text": [
      "Requirement already satisfied: pandas in /Users/michael/.pyenv/versions/3.9.1/envs/cs230/lib/python3.9/site-packages (1.2.3)\n",
      "Requirement already satisfied: pytz>=2017.3 in /Users/michael/.pyenv/versions/3.9.1/envs/cs230/lib/python3.9/site-packages (from pandas) (2020.5)\n",
      "Requirement already satisfied: numpy>=1.16.5 in /Users/michael/.pyenv/versions/3.9.1/envs/cs230/lib/python3.9/site-packages (from pandas) (1.19.5)\n",
      "Requirement already satisfied: python-dateutil>=2.7.3 in /Users/michael/.pyenv/versions/3.9.1/envs/cs230/lib/python3.9/site-packages (from pandas) (2.8.1)\n",
      "Requirement already satisfied: six>=1.5 in /Users/michael/.pyenv/versions/3.9.1/envs/cs230/lib/python3.9/site-packages (from python-dateutil>=2.7.3->pandas) (1.15.0)\n",
      "\u001b[33mWARNING: You are using pip version 20.2.3; however, version 21.0.1 is available.\n",
      "You should consider upgrading via the '/Users/michael/.pyenv/versions/3.9.1/envs/cs230/bin/python3.9 -m pip install --upgrade pip' command.\u001b[0m\n",
      "Collecting matplotlib\n",
      "  Downloading matplotlib-3.3.4-cp39-cp39-macosx_10_9_x86_64.whl (8.5 MB)\n",
      "\u001b[K     |████████████████████████████████| 8.5 MB 152 kB/s eta 0:00:01     |██                              | 552 kB 2.4 MB/s eta 0:00:04     |█████████                       | 2.4 MB 2.4 MB/s eta 0:00:03\n",
      "\u001b[?25hRequirement already satisfied: pyparsing!=2.0.4,!=2.1.2,!=2.1.6,>=2.0.3 in /Users/michael/.pyenv/versions/3.9.1/envs/cs230/lib/python3.9/site-packages (from matplotlib) (2.4.7)\n",
      "Collecting cycler>=0.10\n",
      "  Downloading cycler-0.10.0-py2.py3-none-any.whl (6.5 kB)\n",
      "Collecting kiwisolver>=1.0.1\n",
      "  Downloading kiwisolver-1.3.1-cp39-cp39-macosx_10_9_x86_64.whl (61 kB)\n",
      "\u001b[K     |████████████████████████████████| 61 kB 641 kB/s eta 0:00:01\n",
      "\u001b[?25hCollecting pillow>=6.2.0\n",
      "  Downloading Pillow-8.1.2-cp39-cp39-macosx_10_10_x86_64.whl (2.2 MB)\n",
      "\u001b[K     |████████████████████████████████| 2.2 MB 2.7 MB/s eta 0:00:01\n",
      "\u001b[?25hRequirement already satisfied: python-dateutil>=2.1 in /Users/michael/.pyenv/versions/3.9.1/envs/cs230/lib/python3.9/site-packages (from matplotlib) (2.8.1)\n",
      "Requirement already satisfied: numpy>=1.15 in /Users/michael/.pyenv/versions/3.9.1/envs/cs230/lib/python3.9/site-packages (from matplotlib) (1.19.5)\n",
      "Requirement already satisfied: six in /Users/michael/.pyenv/versions/3.9.1/envs/cs230/lib/python3.9/site-packages (from cycler>=0.10->matplotlib) (1.15.0)\n",
      "Installing collected packages: cycler, kiwisolver, pillow, matplotlib\n",
      "Successfully installed cycler-0.10.0 kiwisolver-1.3.1 matplotlib-3.3.4 pillow-8.1.2\n",
      "\u001b[33mWARNING: You are using pip version 20.2.3; however, version 21.0.1 is available.\n",
      "You should consider upgrading via the '/Users/michael/.pyenv/versions/3.9.1/envs/cs230/bin/python3.9 -m pip install --upgrade pip' command.\u001b[0m\n"
     ]
    }
   ],
   "source": [
    "!pip install pandas\n",
    "!pip install matplotlib"
   ]
  },
  {
   "cell_type": "code",
   "execution_count": 180,
   "id": "eligible-destiny",
   "metadata": {},
   "outputs": [],
   "source": [
    "import pandas as pd\n",
    "import matplotlib.pyplot as plt\n",
    "from constants import STACKX_COLUMNS\n"
   ]
  },
  {
   "cell_type": "code",
   "execution_count": 169,
   "id": "instant-posting",
   "metadata": {},
   "outputs": [],
   "source": [
    "def calculate_agreement(data: pd.DataFrame, col: str) -> dict:\n",
    "    # Calculate how many of the labels agree with the rest of the group\n",
    "    data = data[data['understandable'] == 1]\n",
    "    data = data[data.duplicated(subset=['passage', 'question'],keep=False)]\n",
    "    groups = data.groupby(by=['passage', 'question'])\n",
    "    ret = {'agree': 0, 'disagree': 0, 'accuracy': 0}\n",
    "    group_keys = list(groups.groups.keys())\n",
    "    for key in group_keys:\n",
    "        group = groups.get_group(key).reset_index(drop=True)\n",
    "        for i in range(len(group)):\n",
    "            subgroup = group.drop(index=i)\n",
    "            subgroup_mean = round(subgroup.mean(axis=0)[col])\n",
    "            holdout = group.iloc[i][col]\n",
    "            if subgroup_mean == holdout:\n",
    "                ret['agree'] += 1\n",
    "            else:\n",
    "                ret['disagree'] += 1\n",
    "    ret['accuracy'] = ret['agree'] / (ret['agree'] + ret['disagree'])\n",
    "    return ret\n",
    "\n",
    "def calculate_agreement_binary(data: pd.DataFrame, col: str) -> dict:\n",
    "    # Calculate how many of the binary labels agree with the rest of the group\n",
    "    data = data[data['understandable'] == 1]\n",
    "    data = data[data.duplicated(subset=['passage', 'question'],keep=False)]\n",
    "    groups = data.groupby(by=['passage', 'question'])\n",
    "    ret = {'agree': 0, 'disagree': 0, 'accuracy': 0}\n",
    "    group_keys = list(groups.groups.keys())\n",
    "    for key in group_keys:\n",
    "        group = groups.get_group(key).reset_index(drop=True)\n",
    "        for i in range(len(group)):\n",
    "            subgroup = group.drop(index=i)\n",
    "            subgroup_mean = round(subgroup.mean(axis=0)[col])\n",
    "            subgroup_binary = subgroup_mean > 3\n",
    "            holdout = group.iloc[i][col]\n",
    "            holdout_binary = holdout > 3\n",
    "            if subgroup_binary == holdout_binary:\n",
    "                ret['agree'] += 1\n",
    "            else:\n",
    "                ret['disagree'] += 1\n",
    "    ret['accuracy'] = ret['agree'] / (ret['agree'] + ret['disagree'])\n",
    "    return ret"
   ]
  },
  {
   "cell_type": "code",
   "execution_count": 175,
   "id": "narrative-council",
   "metadata": {},
   "outputs": [],
   "source": [
    "data = pd.read_csv('raw_datasets/labels_with_stackx.csv')\n",
    "data = data.drop(columns=STACKX_COLUMNS)\n",
    "data = data.drop(columns=['comprehension binary', 'interest binary'])\n"
   ]
  },
  {
   "cell_type": "code",
   "execution_count": 230,
   "id": "immune-webster",
   "metadata": {},
   "outputs": [
    {
     "data": {
      "image/png": "[encoded data removed]",
      "text/plain": [
       "<Figure size 432x288 with 1 Axes>"
      ]
     },
     "metadata": {
      "needs_background": "light"
     },
     "output_type": "display_data"
    }
   ],
   "source": [
    "# Understandable\n",
    "d = data['understandable'].value_counts().to_dict()\n",
    "\n",
    "x = list(d.keys())\n",
    "y = list(d.values())\n",
    "y_text = [str(elem) for elem in y]\n",
    "\n",
    "\n",
    "_ = plt.bar(x, y, align='center', tick_label=x)\n",
    "\n"
   ]
  },
  {
   "cell_type": "code",
   "execution_count": 234,
   "id": "further-scene",
   "metadata": {},
   "outputs": [
    {
     "name": "stdout",
     "output_type": "stream",
     "text": [
      "{4: 2420, 2: 1698, 3: 797, 1: 299, 5: 296}\n"
     ]
    },
    {
     "data": {
      "image/png": "[encoded data removed]",
      "text/plain": [
       "<Figure size 432x288 with 1 Axes>"
      ]
     },
     "metadata": {
      "needs_background": "light"
     },
     "output_type": "display_data"
    }
   ],
   "source": [
    "# Comprehension\n",
    "d = data['comprehension'].value_counts().to_dict()\n",
    "\n",
    "del d[0]\n",
    "\n",
    "x = list(d.keys())\n",
    "y = list(d.values())\n",
    "y_text = [str(elem) for elem in y]\n",
    "\n",
    "\n",
    "_ = plt.bar(x, y, align='center', tick_label=x)\n",
    "print(d)"
   ]
  },
  {
   "cell_type": "code",
   "execution_count": 235,
   "id": "forced-moore",
   "metadata": {},
   "outputs": [
    {
     "name": "stdout",
     "output_type": "stream",
     "text": [
      "{4: 3573, 5: 807, 3: 654, 2: 402, 1: 62}\n"
     ]
    },
    {
     "data": {
      "image/png": "[encoded data removed]",
      "text/plain": [
       "<Figure size 432x288 with 1 Axes>"
      ]
     },
     "metadata": {
      "needs_background": "light"
     },
     "output_type": "display_data"
    }
   ],
   "source": [
    "# Comprehension\n",
    "d = data['interest'].value_counts().to_dict()\n",
    "\n",
    "del d[0]\n",
    "\n",
    "x = list(d.keys())\n",
    "y = list(d.values())\n",
    "y_text = [str(elem) for elem in y]\n",
    "\n",
    "\n",
    "_ = plt.bar(x, y, align='center', tick_label=x)\n",
    "print(d)\n"
   ]
  },
  {
   "cell_type": "code",
   "execution_count": 171,
   "id": "eastern-railway",
   "metadata": {},
   "outputs": [
    {
     "name": "stdout",
     "output_type": "stream",
     "text": [
      "Interest on 1-5 scale: {'agree': 491, 'disagree': 477, 'accuracy': 0.5072314049586777}\n",
      "Comprehension on 1-5 scale: {'agree': 258, 'disagree': 710, 'accuracy': 0.2665289256198347}\n",
      "Interest on binary scale: {'agree': 655, 'disagree': 105, 'accuracy': 0.8618421052631579}\n",
      "Comprehension on binary scale: {'agree': 289, 'disagree': 232, 'accuracy': 0.5547024952015355}\n"
     ]
    }
   ],
   "source": [
    "print(f\"Interest on 1-5 scale: {calculate_agreement(data, 'interest')}\")\n",
    "print(f\"Comprehension on 1-5 scale: {calculate_agreement(data, 'comprehension')}\")\n",
    "print(f\"Interest on binary scale: {calculate_agreement_binary(data, 'interest')}\")\n",
    "print(f\"Comprehension on binary scale: {calculate_agreement_binary(data, 'comprehension')}\")"
   ]
  },
  {
   "cell_type": "code",
   "execution_count": 158,
   "id": "simple-vinyl",
   "metadata": {},
   "outputs": [
    {
     "name": "stdout",
     "output_type": "stream",
     "text": [
      "Agree Binary: 686 | Disagree Binary: 282\n",
      "Accuracy: 0.7086776859504132\n"
     ]
    }
   ],
   "source": []
  },
  {
   "cell_type": "code",
   "execution_count": null,
   "id": "sticky-cooler",
   "metadata": {},
   "outputs": [],
   "source": []
  }
 ],
 "metadata": {
  "kernelspec": {
   "display_name": "Python 3",
   "language": "python",
   "name": "python3"
  },
  "language_info": {
   "codemirror_mode": {
    "name": "ipython",
    "version": 3
   },
   "file_extension": ".py",
   "mimetype": "text/x-python",
   "name": "python",
   "nbconvert_exporter": "python",
   "pygments_lexer": "ipython3",
   "version": "3.9.1"
  }
 },
 "nbformat": 4,
 "nbformat_minor": 5
}
