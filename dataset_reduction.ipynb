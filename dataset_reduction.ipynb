{
 "cells": [
  {
   "cell_type": "code",
   "execution_count": 1,
   "id": "ahead-detective",
   "metadata": {},
   "outputs": [],
   "source": [
    "from constants import PROCESSED_DIR, RAW_DATASET_PATH, PROCESSED_DATASET\n",
    "from dataset_utils import *\n",
    "import pandas as pd\n",
    "import numpy as np\n",
    "from os import path"
   ]
  },
  {
   "cell_type": "code",
   "execution_count": 2,
   "id": "textile-experiment",
   "metadata": {},
   "outputs": [
    {
     "name": "stderr",
     "output_type": "stream",
     "text": [
      "/home/ubuntu/Question-Classifier/dataset_utils.py:80: SettingWithCopyWarning: \n",
      "A value is trying to be set on a copy of a slice from a DataFrame.\n",
      "Try using .loc[row_indexer,col_indexer] = value instead\n",
      "\n",
      "See the caveats in the documentation: https://pandas.pydata.org/pandas-docs/stable/user_guide/indexing.html#returning-a-view-versus-a-copy\n",
      "  interest['interest_binary'] = (interest['interest'] > 3).astype(int)\n",
      "/home/ubuntu/Question-Classifier/dataset_utils.py:90: SettingWithCopyWarning: \n",
      "A value is trying to be set on a copy of a slice from a DataFrame.\n",
      "Try using .loc[row_indexer,col_indexer] = value instead\n",
      "\n",
      "See the caveats in the documentation: https://pandas.pydata.org/pandas-docs/stable/user_guide/indexing.html#returning-a-view-versus-a-copy\n",
      "  comprehension['comprehension_binary'] = (comprehension['comprehension'] > 3).astype(int)\n"
     ]
    }
   ],
   "source": [
    "# Uncomment the following line to rerun pre-processing and tokenization\n",
    "# prepare_and_save(RAW_DATASET_PATH, path.join(PROCESSED_DIR, PROCESSED_DATASET))\n",
    "data = pd.read_pickle(path.join(PROCESSED_DIR, PROCESSED_DATASET))\n",
    "\n",
    "interest = get_interest_dataset(data)\n",
    "comprehension = get_comprehension_dataset(data)\n",
    "comprehension = get_balanced_dataset(comprehension, 'comprehension_binary', random_state=1)\n",
    "comprehension = comprehension.sample(frac=1, random_state=1)\n",
    "features = get_features(comprehension)\n",
    "labels = get_labels(comprehension, 'comprehension_binary')\n",
    "folds = kfold_split(features, labels, num_folds=8)"
   ]
  }
 ],
 "metadata": {
  "kernelspec": {
   "display_name": "Python [conda env:tensorflow_p37] *",
   "language": "python",
   "name": "conda-env-tensorflow_p37-py"
  },
  "language_info": {
   "codemirror_mode": {
    "name": "ipython",
    "version": 3
   },
   "file_extension": ".py",
   "mimetype": "text/x-python",
   "name": "python",
   "nbconvert_exporter": "python",
   "pygments_lexer": "ipython3",
   "version": "3.7.10"
  }
 },
 "nbformat": 4,
 "nbformat_minor": 5
}
